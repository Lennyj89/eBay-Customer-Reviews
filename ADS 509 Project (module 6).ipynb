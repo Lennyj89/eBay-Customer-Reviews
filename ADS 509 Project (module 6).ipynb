{
 "cells": [
  {
   "cell_type": "markdown",
   "metadata": {},
   "source": [
    "## Libraries"
   ]
  },
  {
   "cell_type": "code",
   "execution_count": 3,
   "metadata": {},
   "outputs": [],
   "source": [
    "import pandas as pd\n",
    "import numpy as np\n",
    "from bs4 import BeautifulSoup\n",
    "import requests\n",
    "import time"
   ]
  },
  {
   "cell_type": "markdown",
   "metadata": {},
   "source": [
    "## Reading in Data"
   ]
  },
  {
   "cell_type": "markdown",
   "metadata": {},
   "source": [
    "### Product 1: Texas Instruments TI-83 Plus Graphing Calculator"
   ]
  },
  {
   "cell_type": "code",
   "execution_count": 233,
   "metadata": {},
   "outputs": [],
   "source": [
    "# initialzing df\n",
    "eBay_1 = []\n",
    "eBay_1 = pd.DataFrame(eBay_1)\n",
    "\n",
    "# initilazing lists\n",
    "stars = []\n",
    "content = []\n",
    "titles = []"
   ]
  },
  {
   "cell_type": "code",
   "execution_count": 234,
   "metadata": {},
   "outputs": [],
   "source": [
    "# Getting page base and making list of links to the reviews\n",
    "\n",
    "page_base = 'https://www.ebay.com/urw/Texas-Instruments-TI-83-Plus-Graphing-Calculator/product-reviews/54847886?condition=all&pgn='\n",
    "total_pages = 208\n",
    "links = []\n",
    "\n",
    "for link in range(1,total_pages):\n",
    "    links.append(page_base+str(link))"
   ]
  },
  {
   "cell_type": "markdown",
   "metadata": {},
   "source": [
    "Initially, we pulled the links directly through the html and looped through, but the initial page only provided the first 7 pages of reviews. This was the easiest way around this issue. "
   ]
  },
  {
   "cell_type": "code",
   "execution_count": 235,
   "metadata": {},
   "outputs": [],
   "source": [
    "# Filling lists with data from Web Scrape\n",
    "\n",
    "for page in links:\n",
    "    \n",
    "    r = requests.get(page)\n",
    "    #time.sleep(1)\n",
    "    soup = BeautifulSoup(r.text, 'html.parser')\n",
    "    \n",
    "    for star in soup.find_all('div', class_='ebay-review-section-l'): \n",
    "        stars.append(star.find('span','star-rating')['aria-label'])\n",
    "        \n",
    "    for review_content in soup.find_all('p', class_ = 'review-item-content rvw-wrap-spaces'): \n",
    "        content.append(review_content.text)\n",
    "    \n",
    "    for review_title in soup.find_all('h3', class_ = 'review-item-title rvw-nowrap-spaces'): \n",
    "        titles.append(review_title.text)"
   ]
  },
  {
   "cell_type": "code",
   "execution_count": 238,
   "metadata": {},
   "outputs": [],
   "source": [
    "# Putting list into Data Frame\n",
    "\n",
    "eBay_1['Review Title'] = titles\n",
    "#eBay['Review Content'] = content\n",
    "eBay_1['Stars'] = stars\n",
    "eBay_1['Item'] = 'Texas Instruments TI-83 Plus Graphing Calculator'"
   ]
  },
  {
   "cell_type": "markdown",
   "metadata": {},
   "source": [
    "A user must include a title in their review, but content is not needed. This creates a different amount of content items than titles and stars. This results in us having to use titles as our source of text, as there is no way to know which reviews have content in their review or not. "
   ]
  },
  {
   "cell_type": "markdown",
   "metadata": {},
   "source": [
    "### Product 2: Apple AirPods Pro Left Airpod OEM Left Side Airpods Pro Only"
   ]
  },
  {
   "cell_type": "code",
   "execution_count": 240,
   "metadata": {},
   "outputs": [],
   "source": [
    "# initialzing df\n",
    "eBay_2 = []\n",
    "eBay_2 = pd.DataFrame(eBay_2)\n",
    "\n",
    "# initilazing lists\n",
    "stars = []\n",
    "titles = []"
   ]
  },
  {
   "cell_type": "code",
   "execution_count": 241,
   "metadata": {},
   "outputs": [],
   "source": [
    "# Getting page base and making list of links to the reviews\n",
    "\n",
    "page_base = 'https://www.ebay.com/urw/Apple-AirPods-Pro-Wireless-In-Ear-Headsets-White/product-reviews/10034976643?_itm=115149763582&pgn='\n",
    "total_pages = 230\n",
    "links = []\n",
    "\n",
    "for link in range(1,total_pages):\n",
    "    links.append(page_base+str(link))"
   ]
  },
  {
   "cell_type": "code",
   "execution_count": 242,
   "metadata": {},
   "outputs": [],
   "source": [
    "# Filling lists with data from Web Scrape\n",
    "\n",
    "for page in links:\n",
    "    \n",
    "    r = requests.get(page)\n",
    "    #time.sleep(1)\n",
    "    soup = BeautifulSoup(r.text, 'html.parser')\n",
    "    \n",
    "    for star in soup.find_all('div', class_='ebay-review-section-l'): \n",
    "        stars.append(star.find('span','star-rating')['aria-label'])\n",
    "    \n",
    "    for review_title in soup.find_all('h3', class_ = 'review-item-title rvw-nowrap-spaces'): \n",
    "        titles.append(review_title.text)"
   ]
  },
  {
   "cell_type": "code",
   "execution_count": 243,
   "metadata": {},
   "outputs": [],
   "source": [
    "# Putting list into Data Frame\n",
    "\n",
    "eBay_2['Review Title'] = titles\n",
    "eBay_2['Stars'] = stars\n",
    "eBay_2['Item'] = 'Apple AirPods Pro Left Airpod OEM Left Side Airpods Pro Only'"
   ]
  },
  {
   "cell_type": "markdown",
   "metadata": {},
   "source": [
    "### Product 3: Sony PS5 Console w/ Blu-Ray Disc"
   ]
  },
  {
   "cell_type": "code",
   "execution_count": 245,
   "metadata": {},
   "outputs": [],
   "source": [
    "# initialzing df\n",
    "eBay_3 = []\n",
    "eBay_3 = pd.DataFrame(eBay_3)\n",
    "\n",
    "# initilazing lists\n",
    "stars = []\n",
    "titles = []"
   ]
  },
  {
   "cell_type": "code",
   "execution_count": 246,
   "metadata": {},
   "outputs": [],
   "source": [
    "# Getting page base and making list of links to the reviews\n",
    "\n",
    "page_base = 'https://www.ebay.com/urw/Sony-PS5-Blu-Ray-Edition-Console-White/product-reviews/19040936896?_itm=265175892133&pgn='\n",
    "total_pages = 194\n",
    "links = []\n",
    "\n",
    "for link in range(1,total_pages):\n",
    "    links.append(page_base+str(link))"
   ]
  },
  {
   "cell_type": "code",
   "execution_count": 247,
   "metadata": {},
   "outputs": [],
   "source": [
    "# Filling lists with data from Web Scrape\n",
    "\n",
    "for page in links:\n",
    "    \n",
    "    r = requests.get(page)\n",
    "    # time.sleep(1)\n",
    "    soup = BeautifulSoup(r.text, 'html.parser')\n",
    "    \n",
    "    for star in soup.find_all('div', class_='ebay-review-section-l'): \n",
    "        stars.append(star.find('span','star-rating')['aria-label'])\n",
    "    \n",
    "    for review_title in soup.find_all('h3', class_ = 'review-item-title rvw-nowrap-spaces'): \n",
    "        titles.append(review_title.text)"
   ]
  },
  {
   "cell_type": "code",
   "execution_count": 248,
   "metadata": {},
   "outputs": [],
   "source": [
    "# Putting list into Data Frame\n",
    "\n",
    "eBay_3['Review Title'] = titles\n",
    "eBay_3['Stars'] = stars\n",
    "eBay_3['Item'] = 'Sony PS5 Console w/ Blu-Ray Disc'"
   ]
  },
  {
   "cell_type": "markdown",
   "metadata": {},
   "source": [
    "### Product 4: Super Bright 90000LM LED Tactical Flashlight Zoomable With Rechargeable Battery"
   ]
  },
  {
   "cell_type": "code",
   "execution_count": 250,
   "metadata": {},
   "outputs": [],
   "source": [
    "# initialzing df\n",
    "eBay_4 = []\n",
    "eBay_4 = pd.DataFrame(eBay_4)\n",
    "\n",
    "# initilazing lists\n",
    "stars = []\n",
    "titles = []"
   ]
  },
  {
   "cell_type": "code",
   "execution_count": 251,
   "metadata": {},
   "outputs": [],
   "source": [
    "# Getting page base and making list of links to the reviews\n",
    "\n",
    "page_base = 'https://www.ebay.com/urw/Garberiel-AF20171221-8000-Lumens-Tactical-Flashlight-With-Rechargeable-Battery/product-reviews/4041786004?_itm=393096143620&pgn='\n",
    "total_pages = 41\n",
    "links = []\n",
    "\n",
    "for link in range(1,total_pages):\n",
    "    links.append(page_base+str(link))"
   ]
  },
  {
   "cell_type": "code",
   "execution_count": 252,
   "metadata": {},
   "outputs": [],
   "source": [
    "# Filling lists with data from Web Scrape\n",
    "\n",
    "for page in links:\n",
    "    \n",
    "    r = requests.get(page)\n",
    "    #time.sleep(1)\n",
    "    soup = BeautifulSoup(r.text, 'html.parser')\n",
    "    \n",
    "    for star in soup.find_all('div', class_='ebay-review-section-l'): \n",
    "        stars.append(star.find('span','star-rating')['aria-label'])\n",
    "    \n",
    "    for review_title in soup.find_all('h3', class_ = 'review-item-title rvw-nowrap-spaces'): \n",
    "        titles.append(review_title.text)"
   ]
  },
  {
   "cell_type": "code",
   "execution_count": 253,
   "metadata": {},
   "outputs": [],
   "source": [
    "# Putting list into Data Frame\n",
    "\n",
    "eBay_4['Review Title'] = titles\n",
    "eBay_4['Stars'] = stars\n",
    "eBay_4['Item'] = 'Super Bright 90000LM LED Tactical Flashlight Zoomable With Rechargeable Battery'"
   ]
  },
  {
   "cell_type": "markdown",
   "metadata": {},
   "source": [
    "### Product 5: Canon PIXMA MG2520 All-In-One Inkjet Printer"
   ]
  },
  {
   "cell_type": "code",
   "execution_count": 255,
   "metadata": {},
   "outputs": [],
   "source": [
    "# initialzing df\n",
    "eBay_5 = []\n",
    "eBay_5 = pd.DataFrame(eBay_5)\n",
    "\n",
    "# initilazing lists\n",
    "stars = []\n",
    "titles = []"
   ]
  },
  {
   "cell_type": "code",
   "execution_count": 256,
   "metadata": {},
   "outputs": [],
   "source": [
    "# Getting page base and making list of links to the reviews\n",
    "\n",
    "page_base = 'https://www.ebay.com/urw/Canon-PIXMA-MG2520-All-In-One-Inkjet-Printer/product-reviews/182754283?pgn='\n",
    "total_pages = 42\n",
    "links = []\n",
    "\n",
    "for link in range(1,total_pages):\n",
    "    links.append(page_base+str(link))"
   ]
  },
  {
   "cell_type": "code",
   "execution_count": 257,
   "metadata": {},
   "outputs": [],
   "source": [
    "# Filling lists with data from Web Scrape\n",
    "\n",
    "for page in links:\n",
    "    \n",
    "    r = requests.get(page)\n",
    "    # time.sleep(1)\n",
    "    soup = BeautifulSoup(r.text, 'html.parser')\n",
    "    \n",
    "    for star in soup.find_all('div', class_='ebay-review-section-l'): \n",
    "        stars.append(star.find('span','star-rating')['aria-label'])\n",
    "    \n",
    "    for review_title in soup.find_all('h3', class_ = 'review-item-title rvw-nowrap-spaces'): \n",
    "        titles.append(review_title.text)"
   ]
  },
  {
   "cell_type": "code",
   "execution_count": 258,
   "metadata": {},
   "outputs": [],
   "source": [
    "# Putting list into Data Frame\n",
    "\n",
    "eBay_5['Review Title'] = titles\n",
    "eBay_5['Stars'] = stars\n",
    "eBay_5['Item'] = 'Canon PIXMA MG2520 All-In-One Inkjet Printer'"
   ]
  },
  {
   "cell_type": "code",
   "execution_count": 262,
   "metadata": {},
   "outputs": [],
   "source": [
    "# Combining data to get one data frame\n",
    "\n",
    "eBay = pd.concat([eBay_1, eBay_2, eBay_3, eBay_4, eBay_5], ignore_index=True)\n",
    "eBay.reset_index(drop = True, inplace = True)"
   ]
  },
  {
   "cell_type": "code",
   "execution_count": 272,
   "metadata": {},
   "outputs": [],
   "source": [
    "# Binning reviews for predictive modeling \n",
    "\n",
    "is_positive = []\n",
    "\n",
    "for stars in eBay['Stars']:\n",
    "    if stars == '5 stars' or stars == '4 stars':\n",
    "        is_positive.append(1)\n",
    "    else:\n",
    "        is_positive.append(0)\n",
    "        \n",
    "eBay['Is_Positive?'] = is_positive"
   ]
  },
  {
   "cell_type": "code",
   "execution_count": 275,
   "metadata": {},
   "outputs": [
    {
     "data": {
      "text/html": [
       "<div>\n",
       "<style scoped>\n",
       "    .dataframe tbody tr th:only-of-type {\n",
       "        vertical-align: middle;\n",
       "    }\n",
       "\n",
       "    .dataframe tbody tr th {\n",
       "        vertical-align: top;\n",
       "    }\n",
       "\n",
       "    .dataframe thead th {\n",
       "        text-align: right;\n",
       "    }\n",
       "</style>\n",
       "<table border=\"1\" class=\"dataframe\">\n",
       "  <thead>\n",
       "    <tr style=\"text-align: right;\">\n",
       "      <th></th>\n",
       "      <th>Item</th>\n",
       "      <th>Review Title</th>\n",
       "      <th>Stars</th>\n",
       "      <th>Is_Positive?</th>\n",
       "    </tr>\n",
       "  </thead>\n",
       "  <tbody>\n",
       "    <tr>\n",
       "      <th>0</th>\n",
       "      <td>Texas Instruments TI-83 Plus Graphing Calculator</td>\n",
       "      <td>Nice item- as we used to say: \"Works fine, las...</td>\n",
       "      <td>5 stars</td>\n",
       "      <td>1</td>\n",
       "    </tr>\n",
       "    <tr>\n",
       "      <th>1</th>\n",
       "      <td>Texas Instruments TI-83 Plus Graphing Calculator</td>\n",
       "      <td>Cheap</td>\n",
       "      <td>3 stars</td>\n",
       "      <td>0</td>\n",
       "    </tr>\n",
       "    <tr>\n",
       "      <th>2</th>\n",
       "      <td>Texas Instruments TI-83 Plus Graphing Calculator</td>\n",
       "      <td>Texas Instruments TI-83 Plus Graphic Calculator</td>\n",
       "      <td>4 stars</td>\n",
       "      <td>1</td>\n",
       "    </tr>\n",
       "    <tr>\n",
       "      <th>3</th>\n",
       "      <td>Texas Instruments TI-83 Plus Graphing Calculator</td>\n",
       "      <td>TI-83</td>\n",
       "      <td>4 stars</td>\n",
       "      <td>1</td>\n",
       "    </tr>\n",
       "    <tr>\n",
       "      <th>4</th>\n",
       "      <td>Texas Instruments TI-83 Plus Graphing Calculator</td>\n",
       "      <td>Handy calculator, solid and functional</td>\n",
       "      <td>4 stars</td>\n",
       "      <td>1</td>\n",
       "    </tr>\n",
       "    <tr>\n",
       "      <th>...</th>\n",
       "      <td>...</td>\n",
       "      <td>...</td>\n",
       "      <td>...</td>\n",
       "      <td>...</td>\n",
       "    </tr>\n",
       "    <tr>\n",
       "      <th>7098</th>\n",
       "      <td>Canon PIXMA MG2520 All-In-One Inkjet Printer</td>\n",
       "      <td>is so so</td>\n",
       "      <td>5 stars</td>\n",
       "      <td>1</td>\n",
       "    </tr>\n",
       "    <tr>\n",
       "      <th>7099</th>\n",
       "      <td>Canon PIXMA MG2520 All-In-One Inkjet Printer</td>\n",
       "      <td>Nice printer great price</td>\n",
       "      <td>5 stars</td>\n",
       "      <td>1</td>\n",
       "    </tr>\n",
       "    <tr>\n",
       "      <th>7100</th>\n",
       "      <td>Canon PIXMA MG2520 All-In-One Inkjet Printer</td>\n",
       "      <td>like it</td>\n",
       "      <td>5 stars</td>\n",
       "      <td>1</td>\n",
       "    </tr>\n",
       "    <tr>\n",
       "      <th>7101</th>\n",
       "      <td>Canon PIXMA MG2520 All-In-One Inkjet Printer</td>\n",
       "      <td>PERFECT</td>\n",
       "      <td>5 stars</td>\n",
       "      <td>1</td>\n",
       "    </tr>\n",
       "    <tr>\n",
       "      <th>7102</th>\n",
       "      <td>Canon PIXMA MG2520 All-In-One Inkjet Printer</td>\n",
       "      <td>Excelente</td>\n",
       "      <td>5 stars</td>\n",
       "      <td>1</td>\n",
       "    </tr>\n",
       "  </tbody>\n",
       "</table>\n",
       "<p>7103 rows × 4 columns</p>\n",
       "</div>"
      ],
      "text/plain": [
       "                                                  Item  \\\n",
       "0     Texas Instruments TI-83 Plus Graphing Calculator   \n",
       "1     Texas Instruments TI-83 Plus Graphing Calculator   \n",
       "2     Texas Instruments TI-83 Plus Graphing Calculator   \n",
       "3     Texas Instruments TI-83 Plus Graphing Calculator   \n",
       "4     Texas Instruments TI-83 Plus Graphing Calculator   \n",
       "...                                                ...   \n",
       "7098      Canon PIXMA MG2520 All-In-One Inkjet Printer   \n",
       "7099      Canon PIXMA MG2520 All-In-One Inkjet Printer   \n",
       "7100      Canon PIXMA MG2520 All-In-One Inkjet Printer   \n",
       "7101      Canon PIXMA MG2520 All-In-One Inkjet Printer   \n",
       "7102      Canon PIXMA MG2520 All-In-One Inkjet Printer   \n",
       "\n",
       "                                           Review Title    Stars  Is_Positive?  \n",
       "0     Nice item- as we used to say: \"Works fine, las...  5 stars             1  \n",
       "1                                                 Cheap  3 stars             0  \n",
       "2       Texas Instruments TI-83 Plus Graphic Calculator  4 stars             1  \n",
       "3                                                 TI-83  4 stars             1  \n",
       "4                Handy calculator, solid and functional  4 stars             1  \n",
       "...                                                 ...      ...           ...  \n",
       "7098                                           is so so  5 stars             1  \n",
       "7099                          Nice printer great price   5 stars             1  \n",
       "7100                                            like it  5 stars             1  \n",
       "7101                                            PERFECT  5 stars             1  \n",
       "7102                                          Excelente  5 stars             1  \n",
       "\n",
       "[7103 rows x 4 columns]"
      ]
     },
     "execution_count": 275,
     "metadata": {},
     "output_type": "execute_result"
    }
   ],
   "source": [
    "# What the final dataframe looks like\n",
    "\n",
    "eBay"
   ]
  },
  {
   "cell_type": "code",
   "execution_count": 274,
   "metadata": {},
   "outputs": [],
   "source": [
    "# Reading DataFrame into CSV\n",
    "\n",
    "eBay.to_csv('C:/Users/mzazu/OneDrive/Documents/USD papers/509/eBay.csv', index=False)"
   ]
  }
 ],
 "metadata": {
  "kernelspec": {
   "display_name": "Python 3 (ipykernel)",
   "language": "python",
   "name": "python3"
  },
  "language_info": {
   "codemirror_mode": {
    "name": "ipython",
    "version": 3
   },
   "file_extension": ".py",
   "mimetype": "text/x-python",
   "name": "python",
   "nbconvert_exporter": "python",
   "pygments_lexer": "ipython3",
   "version": "3.7.8"
  }
 },
 "nbformat": 4,
 "nbformat_minor": 4
}
